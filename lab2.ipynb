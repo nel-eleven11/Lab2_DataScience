{
 "cells": [
  {
   "cell_type": "markdown",
   "id": "3fb3e75e",
   "metadata": {},
   "source": [
    "# Laboratorio 2 Redes Neuronales con MNIST\n",
    "\n",
    "Autores:\n",
    "\n",
    "Christian Echeverría 22\n",
    "Nelson García 22434"
   ]
  },
  {
   "cell_type": "code",
   "execution_count": null,
   "id": "345550ae",
   "metadata": {
    "vscode": {
     "languageId": "plaintext"
    }
   },
   "outputs": [],
   "source": [
    "#Librerías a utilizar:"
   ]
  }
 ],
 "metadata": {
  "language_info": {
   "name": "python"
  }
 },
 "nbformat": 4,
 "nbformat_minor": 5
}
